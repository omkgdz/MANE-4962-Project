{
  "nbformat": 4,
  "nbformat_minor": 0,
  "metadata": {
    "colab": {
      "provenance": []
    },
    "kernelspec": {
      "name": "python3",
      "display_name": "Python 3"
    },
    "language_info": {
      "name": "python"
    }
  },
  "cells": [
    {
      "cell_type": "code",
      "execution_count": 3,
      "metadata": {
        "colab": {
          "base_uri": "https://localhost:8080/"
        },
        "id": "PSo7MQ_h5Pwx",
        "outputId": "ebd2f36d-d63e-4e35-bd91-4a2d9ddce408"
      },
      "outputs": [
        {
          "output_type": "stream",
          "name": "stdout",
          "text": [
            "Enter the aircraft type (1, 2, 3): 1\n",
            "Generated Taxi Route: Taxi via Alpha to Runway 4L, hold short of Bravo\n"
          ]
        }
      ],
      "source": [
        "def generate_taxi_route(aircraft_type):\n",
        "    # Predefined taxi routes for simplicity\n",
        "    taxi_routes = {\n",
        "        \"1\": \"Taxi via Alpha to Runway 4L, hold short of Bravo\",\n",
        "        \"2\": \"Taxi via Bravo to Runway 31R, hold short of Charlie\",\n",
        "        \"3\": \"Taxi via Charlie to Runway 22R, hold short of Delta\",\n",
        "    }\n",
        "\n",
        "    # Get the taxi route for the given aircraft type, default to a generic message if unknown\n",
        "    route = taxi_routes.get(aircraft_type.lower(), \"No predefined route for this aircraft type.\")\n",
        "    return route\n",
        "\n",
        "# Example usage\n",
        "aircraft_type = input(\"Enter the aircraft type (1, 2, 3): \")\n",
        "route = generate_taxi_route(aircraft_type)\n",
        "print(\"Generated Taxi Route:\", route)\n"
      ]
    }
  ]
}